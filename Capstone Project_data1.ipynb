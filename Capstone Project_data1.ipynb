{
 "cells": [
  {
   "cell_type": "markdown",
   "id": "12fd388c-0449-4f7e-928d-cfe063d8484b",
   "metadata": {},
   "source": [
    "# Introduction"
   ]
  },
  {
   "cell_type": "markdown",
   "id": "ee32d21e-1031-49ce-86f3-4b1772f3b11d",
   "metadata": {},
   "source": [
    "Calgary Alberta in Canada is the largest city in the province which is home to 1.34 million people, and has been selected in the top 10 most livable city in the world from 2009 to 2019  by the Economist Intelligence Unit. A combination of wildlife landscape, urban sprawl and downtown commercialism made Calgary an attractive city for many international newcomers and Canadians seeking to relocate.\n",
    "\n",
    "However if you are new to the place, moving to a different city can be challenging. There are many things to consider when you are choosing where you are going to live.\n",
    "Do you want a big house with a big backyard outside of the inner city ? \n",
    "Do you want to enjoy entertainment and nightlife?\n",
    "What is your budget to buy a house ?\n",
    "\n",
    "The purpose of this project is to explore communities to determine which neighborhood in Calgary would be the best place to buy a house for those who are interested in moving to Calgary. This project will attempt to answer the questions “Where would be an affordable neighbourhood to buy a house?” and “What venues would be available in each neighbourhood ?'"
   ]
  },
  {
   "cell_type": "markdown",
   "id": "55db7cab-41f3-4330-849c-b12d7c8e8237",
   "metadata": {},
   "source": [
    "# Data"
   ]
  },
  {
   "cell_type": "markdown",
   "id": "b95fb2b4-80f0-400a-9fcc-0dea4b82c0d4",
   "metadata": {},
   "source": [
    "\n",
    "A table named \"List of postal codes of Canada: T from Wikipedia  ( https://en.wikipedia.org/wiki/List_of_postal_codes_of_Canada:_T ) \" will be used to obtain a list of the neighbourhood information  including postal codes, latitude and longitude. These data will be scraped using BeautifulSoup. Then available venues for each neighborhood will be obtained using Foursquare API . Also the k-means clustering with similar venues for each neighborhood will be visualized on map.\n",
    "\n",
    "Also a data set named \" 2021 Assessed Property Values  (https://data.calgary.ca/dataset/2021-Assessed-Property-Values/ejve-em7f) '' from the City of Calgary’s Open Data Portal will be used to obtain the property values for each property, and calculate the average of property value for each neighbourhood. The results will be grouped into 5 clusters by k means cluster, and  the clusters will be plotted on Calgary's map.\n"
   ]
  },
  {
   "cell_type": "code",
   "execution_count": null,
   "id": "1211a462-54d9-4121-821e-bb66e46b5540",
   "metadata": {},
   "outputs": [],
   "source": []
  }
 ],
 "metadata": {
  "kernelspec": {
   "display_name": "Python",
   "language": "python",
   "name": "conda-env-python-py"
  },
  "language_info": {
   "codemirror_mode": {
    "name": "ipython",
    "version": 3
   },
   "file_extension": ".py",
   "mimetype": "text/x-python",
   "name": "python",
   "nbconvert_exporter": "python",
   "pygments_lexer": "ipython3",
   "version": "3.6.13"
  }
 },
 "nbformat": 4,
 "nbformat_minor": 5
}
