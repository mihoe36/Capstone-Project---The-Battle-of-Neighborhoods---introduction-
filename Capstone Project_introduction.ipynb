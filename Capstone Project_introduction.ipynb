{
 "cells": [
  {
   "cell_type": "markdown",
   "id": "12fd388c-0449-4f7e-928d-cfe063d8484b",
   "metadata": {},
   "source": [
    "# Introduction"
   ]
  },
  {
   "cell_type": "markdown",
   "id": "ee32d21e-1031-49ce-86f3-4b1772f3b11d",
   "metadata": {},
   "source": [
    "Calgary Alberta in Canada is the largest city in the province which is home to 1.34 million people, and has been selected in the top 10 most livable city in the world from 2009 to 2019  by the Economist Intelligence Unit. A combination of wildlife landscape, urban sprawl and downtown commercialism made Calgary an attractive city for many international newcomers and Canadians seeking to relocate.\n",
    "\n",
    "However if you are new to the place, moving to a different city can be challenging. There are many things to consider when you are choosing where you are going to live.\n",
    "Do you want a big house with a big backyard outside of the inner city ? \n",
    "Do you want to enjoy entertainment and nightlife?\n",
    "What is your budget to buy a house ?\n",
    "\n",
    "The purpose of this project is to explore communities to determine which neighborhood in Calgary would be the best place to buy a house for those who are interested in moving to Calgary. This project will attempt to answer the questions “Where would be an affordable neighbourhood to buy a house?” and “What venues would be available in each neighbourhood ?'"
   ]
  },
  {
   "cell_type": "code",
   "execution_count": null,
   "id": "ff78312b-bee4-4b7e-8698-b869b6bd860f",
   "metadata": {},
   "outputs": [],
   "source": []
  }
 ],
 "metadata": {
  "kernelspec": {
   "display_name": "Python",
   "language": "python",
   "name": "conda-env-python-py"
  },
  "language_info": {
   "codemirror_mode": {
    "name": "ipython",
    "version": 3
   },
   "file_extension": ".py",
   "mimetype": "text/x-python",
   "name": "python",
   "nbconvert_exporter": "python",
   "pygments_lexer": "ipython3",
   "version": "3.6.13"
  }
 },
 "nbformat": 4,
 "nbformat_minor": 5
}
